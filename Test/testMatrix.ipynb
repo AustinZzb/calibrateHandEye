{
 "cells": [
  {
   "cell_type": "code",
   "execution_count": null,
   "metadata": {},
   "outputs": [],
   "source": [
    "import numpy as np\n",
    "\n",
    "A = np.identity(3)\n",
    "B = np.ones(9).reshape(3, 3)\n",
    "x = np.array([1, 2, 3]).T\n",
    "\n",
    "y = np.zeros(3).T\n",
    "\n",
    "y += (A@B)@x\n",
    "y.sum()"
   ]
  },
  {
   "cell_type": "code",
   "execution_count": null,
   "metadata": {},
   "outputs": [],
   "source": [
    "from numpy import double\n",
    "\n",
    "\n",
    "file = open(\"../Data/Line/position.txt\", \"r\")\n",
    "lines = file.readlines()\n",
    "\n",
    "lines = [line.replace('\\n','') for line in lines]\n",
    "lines\n"
   ]
  },
  {
   "cell_type": "code",
   "execution_count": null,
   "metadata": {},
   "outputs": [],
   "source": []
  },
  {
   "cell_type": "code",
   "execution_count": 39,
   "metadata": {},
   "outputs": [
    {
     "name": "stdout",
     "output_type": "stream",
     "text": [
      "3\n"
     ]
    }
   ],
   "source": [
    "a = np.array([1, 1, 1]).T\n",
    "b = np.array([1, 1, 1])\n",
    "c = a@b\n",
    "print(c)"
   ]
  },
  {
   "cell_type": "code",
   "execution_count": 49,
   "metadata": {},
   "outputs": [
    {
     "data": {
      "text/plain": [
       "array([2, 2])"
      ]
     },
     "execution_count": 49,
     "metadata": {},
     "output_type": "execute_result"
    }
   ],
   "source": [
    "c = np.array([[1 , 1], [1, 2]]) @ [2, 0]\n",
    "c"
   ]
  },
  {
   "cell_type": "code",
   "execution_count": 7,
   "metadata": {},
   "outputs": [
    {
     "name": "stdout",
     "output_type": "stream",
     "text": [
      "4\n"
     ]
    }
   ],
   "source": [
    "a = []\n",
    "b = [ 2, 3,]\n",
    "c = [ 2, 3,]\n",
    "a.append(b)\n",
    "a.append(c)\n",
    "print(int(9/2))"
   ]
  },
  {
   "cell_type": "code",
   "execution_count": 8,
   "metadata": {},
   "outputs": [
    {
     "name": "stdout",
     "output_type": "stream",
     "text": [
      "[[1]\n",
      " [1]\n",
      " [1]\n",
      " [1]]\n",
      "[[1.]\n",
      " [1.]\n",
      " [1.]\n",
      " [1.]]\n"
     ]
    }
   ],
   "source": [
    "import numpy as np\n",
    "\n",
    "a = [1, 2, 3, 4, 5, 6]\n",
    "\n",
    "m = np.array([[-0.02986818,  0.43759146 , 0.8986777 , -0.3969707 ],\n",
    "            [ 0.12236504 , 0.89391709, -0.43120649, -0.460018  ],\n",
    "            [-0.99203563 , 0.09708738, -0.08024557,  0.3899877 ],\n",
    "            [ 0.         , 0.        ,  0.        , 1.        ]])\n",
    "\n",
    "\n",
    "n = np.linalg.inv(m)\n",
    "\n",
    "point_m = np.array([1, 1, 1, 1]).reshape(4, 1)\n",
    "\n",
    "print(point_m)\n",
    "\n",
    "point_n = m@point_m\n",
    "\n",
    "print(n@point_n)\n",
    "\n",
    "\n"
   ]
  },
  {
   "cell_type": "code",
   "execution_count": 2,
   "metadata": {},
   "outputs": [
    {
     "name": "stdout",
     "output_type": "stream",
     "text": [
      "-6592.56447902\n"
     ]
    }
   ],
   "source": [
    "import numpy as np\n",
    "\n",
    "a = np.array([[-5.64466680e-01 , 3.96051085e+00 , 1.78352519e+00 ,-5.15631980e+03],\n",
    "        [ 2.86267808e+00 ,-1.13607758e+00,  1.90606287e+00 ,-8.38560139e+02],\n",
    "        [-4.38447667e+00 ,-2.99201810e+00,  1.47552702e+00 ,-6.00595805e+02],\n",
    "        [ 0.00000000e+00 , 0.00000000e+00,  0.00000000e+00 , 0.00000000e+00]])\n",
    "\n",
    "print(a.sum())"
   ]
  },
  {
   "cell_type": "code",
   "execution_count": 10,
   "metadata": {},
   "outputs": [
    {
     "name": "stdout",
     "output_type": "stream",
     "text": [
      "[[0.86872571 0.43925764 0.85425195]\n",
      " [0.41357451 0.48042506 0.17842261]\n",
      " [0.35606126 0.50766893 0.63212894]\n",
      " [0.70104461 0.1378353  0.42628169]\n",
      " [0.58815938 0.84265787 0.90627626]]\n",
      "0.7941713524651375\n"
     ]
    }
   ],
   "source": [
    "import numpy as np \n",
    "\n",
    "a = np.random.random(15).reshape(5, 3)\n",
    "print(a)\n",
    "b = np.mean(a, axis=0)\n",
    "print(np.square(a - b).sum())"
   ]
  },
  {
   "cell_type": "code",
   "execution_count": 11,
   "metadata": {},
   "outputs": [
    {
     "data": {
      "text/plain": [
       "-3.773997756807905e-33"
      ]
     },
     "execution_count": 11,
     "metadata": {},
     "output_type": "execute_result"
    }
   ],
   "source": [
    "import numpy as np\n",
    "\n",
    "a = np.ndarray([1, 1, 1])\n",
    "b = np.mean(a)\n",
    "b"
   ]
  },
  {
   "cell_type": "code",
   "execution_count": 3,
   "metadata": {},
   "outputs": [
    {
     "name": "stdout",
     "output_type": "stream",
     "text": [
      "Square of 2 is 4\n",
      "Square of 3 is 9\n",
      "Square of 4 is 16\n",
      "Square of 5 is 25\n",
      "Square of 2 is 4\n",
      "Square of 3 is 9\n",
      "Square of 4 is 16\n",
      "Square of 5 is 25\n",
      "All threads finished\n"
     ]
    }
   ],
   "source": [
    "import threading\n",
    "\n",
    "def calculate_square(numbers):\n",
    "    for n in numbers:\n",
    "        print(\"Square of\", n, \"is\", n*n)\n",
    "\n",
    "def calculate_cube(numbers):\n",
    "    for n in numbers:\n",
    "        print(\"Cube of\", n, \"is\", n*n*n)\n",
    "\n",
    "# 创建线程\n",
    "numbers = [2, 3, 4, 5]\n",
    "funcs = [calculate_square, calculate_cube]\n",
    "for func in funcs:\n",
    "    threading.Thread(target=calculate_square, args=(numbers,)).start()\n",
    "\n",
    "print(\"All threads finished\")\n"
   ]
  },
  {
   "cell_type": "code",
   "execution_count": 1,
   "metadata": {},
   "outputs": [
    {
     "data": {
      "text/plain": [
       "[1, '2', {'c': 4}]"
      ]
     },
     "execution_count": 1,
     "metadata": {},
     "output_type": "execute_result"
    }
   ],
   "source": [
    "a = [1, \"2\", {'c': 4}]\n",
    "a"
   ]
  },
  {
   "cell_type": "code",
   "execution_count": 2,
   "metadata": {},
   "outputs": [
    {
     "data": {
      "text/plain": [
       "0"
      ]
     },
     "execution_count": 2,
     "metadata": {},
     "output_type": "execute_result"
    }
   ],
   "source": [
    "import numpy as np\n",
    "a = np.array([0, 0, 50])\n",
    "b = np.array([10, 0, 0])\n",
    "a@b\n"
   ]
  },
  {
   "cell_type": "code",
   "execution_count": 8,
   "metadata": {},
   "outputs": [
    {
     "name": "stdout",
     "output_type": "stream",
     "text": [
      "1335.8871326667338\n"
     ]
    }
   ],
   "source": [
    "import numpy as np\n",
    "print(np.linalg.norm(np.array([779.43032994, 905.97572392, 648.01058605]) - np.array([-50.         , 50.  ,        44.73177898])))"
   ]
  },
  {
   "cell_type": "code",
   "execution_count": 1,
   "metadata": {},
   "outputs": [
    {
     "name": "stdout",
     "output_type": "stream",
     "text": [
      "7\n"
     ]
    }
   ],
   "source": [
    "func = lambda x, y, z: x+y*z\n",
    "\n",
    "print(func(1, 2, 3))"
   ]
  },
  {
   "cell_type": "code",
   "execution_count": 4,
   "metadata": {},
   "outputs": [
    {
     "name": "stdout",
     "output_type": "stream",
     "text": [
      "两个向量不共面。\n"
     ]
    }
   ],
   "source": [
    "import numpy as np\n",
    "\n",
    "def are_vectors_coplanar(vector_a, vector_b):\n",
    "    # 将向量转换为NumPy数组\n",
    "    a = np.array(vector_a)\n",
    "    b = np.array(vector_b)\n",
    "\n",
    "    # 计算向量的叉乘\n",
    "    cross_product = np.cross(a, b)\n",
    "\n",
    "    # 如果叉乘结果是零向量，则说明两个向量共面\n",
    "    return np.allclose(cross_product, np.zeros_like(cross_product))\n",
    "\n",
    "# 示例向量\n",
    "vector1 = [-5, 0, 3]\n",
    "vector2 = [5, 0, 6]\n",
    "\n",
    "# 检查两个向量是否共面\n",
    "result = are_vectors_coplanar(vector1, vector2)\n",
    "\n",
    "if result:\n",
    "    print(\"两个向量共面。\")\n",
    "else:\n",
    "    print(\"两个向量不共面。\")\n"
   ]
  },
  {
   "cell_type": "code",
   "execution_count": null,
   "metadata": {},
   "outputs": [],
   "source": []
  },
  {
   "cell_type": "code",
   "execution_count": 2,
   "metadata": {},
   "outputs": [
    {
     "name": "stdout",
     "output_type": "stream",
     "text": [
      "平面方程：-0.2921517768151719x+-0.05536545016810942y+-0.9547680379188552z+12.261637793739581, 点坐标(26.10260100960182, -8.115628611870187, 5.325944898474351)\n",
      "点到平面距离0.0\n"
     ]
    }
   ],
   "source": [
    "import math\n",
    "plane_coefficients = [-0.2921517768151719, -0.05536545016810942, -0.9547680379188552, +12.261637793739581]\n",
    "point = [26.10260100960182, -8.115628611870187, 5.325944898474351]\n",
    "# 提取平面方程的系数\n",
    "A, B, C, D = plane_coefficients\n",
    "\n",
    "# 提取点的坐标\n",
    "x0, y0, z0 = point\n",
    "\n",
    "# 计算点到平面的距离\n",
    "distance = abs(A*x0 + B*y0 + C*z0 + D) / math.sqrt(A**2 + B**2 + C**2)\n",
    "\n",
    "print(f'平面方程：{A}x+{B}y+{C}z+{D}, 点坐标{x0, y0, z0}')\n",
    "print(f'点到平面距离{distance}')\n"
   ]
  },
  {
   "cell_type": "code",
   "execution_count": 4,
   "metadata": {},
   "outputs": [
    {
     "name": "stdout",
     "output_type": "stream",
     "text": [
      "0.0\n",
      "1.0\n",
      "点到平面的距离为： 0.0\n"
     ]
    }
   ],
   "source": [
    "import numpy as np\n",
    "\n",
    "def point_to_plane_distance(point, plane):\n",
    "    \"\"\"\n",
    "    计算三维空间中一个点到平面的距离\n",
    "    :param point: 点的坐标，格式为[x, y, z]\n",
    "    :param plane: 平面的参数方程，格式为[A, B, C, D]\n",
    "    :return: 点到平面的距离\n",
    "    \"\"\"\n",
    "    A, B, C, D = plane\n",
    "    x, y, z = point\n",
    "    distance = abs(A * x + B * y + C * z + D) / np.sqrt(A ** 2 + B ** 2 + C ** 2)\n",
    "    print(abs(A * x + B * y + C * z + D))\n",
    "    print(np.sqrt(A ** 2 + B ** 2 + C ** 2))\n",
    "    return distance\n",
    "\n",
    "# 平面方程：-0.5079998157816661x - 0.43831107144015674y - 0.7414982075627526z + 14.133206716600318\n",
    "# 点坐标：(25.498912686208477, -10.950004932228685, 8.06377156749601)\n",
    "plane = [-0.5079998157816661, -0.43831107144015674, -0.7414982075627526, 14.133206716600318]\n",
    "point = [25.498912686208477, -10.950004932228685, 8.06377156749601]\n",
    "\n",
    "distance = point_to_plane_distance(point, plane)\n",
    "print(\"点到平面的距离为：\", distance)\n"
   ]
  },
  {
   "cell_type": "code",
   "execution_count": 16,
   "metadata": {},
   "outputs": [
    {
     "name": "stdout",
     "output_type": "stream",
     "text": [
      "[<function <lambda> at 0x000002AB3E316E50>, <function <lambda> at 0x000002AB3E316EE0>, <function <lambda> at 0x000002AB3E316F70>, <function <lambda> at 0x000002AB3E323040>, <function <lambda> at 0x000002AB3E3230D0>, <function <lambda> at 0x000002AB3E323160>, <function <lambda> at 0x000002AB3E3231F0>, <function <lambda> at 0x000002AB3E323280>, <function <lambda> at 0x000002AB3E323310>, <function <lambda> at 0x000002AB3E3913A0>]\n"
     ]
    },
    {
     "ename": "IndexError",
     "evalue": "tuple index out of range",
     "output_type": "error",
     "traceback": [
      "\u001b[1;31m---------------------------------------------------------------------------\u001b[0m",
      "\u001b[1;31mIndexError\u001b[0m                                Traceback (most recent call last)",
      "Cell \u001b[1;32mIn[16], line 12\u001b[0m\n\u001b[0;32m     10\u001b[0m \u001b[38;5;28mprint\u001b[39m(funList)\n\u001b[0;32m     11\u001b[0m \u001b[38;5;28;01mfor\u001b[39;00m i \u001b[38;5;129;01min\u001b[39;00m \u001b[38;5;28mrange\u001b[39m(\u001b[38;5;241m10\u001b[39m):\n\u001b[1;32m---> 12\u001b[0m     \u001b[43mfunList\u001b[49m\u001b[43m[\u001b[49m\u001b[43mi\u001b[49m\u001b[43m]\u001b[49m\u001b[43m(\u001b[49m\u001b[38;5;124;43m\"\u001b[39;49m\u001b[38;5;124;43msssss\u001b[39;49m\u001b[38;5;124;43m\"\u001b[39;49m\u001b[43m)\u001b[49m\n",
      "Cell \u001b[1;32mIn[16], line 6\u001b[0m, in \u001b[0;36m<lambda>\u001b[1;34m(a, *args)\u001b[0m\n\u001b[0;32m      4\u001b[0m funList \u001b[38;5;241m=\u001b[39m []\n\u001b[0;32m      5\u001b[0m \u001b[38;5;28;01mfor\u001b[39;00m i \u001b[38;5;129;01min\u001b[39;00m \u001b[38;5;28mrange\u001b[39m(\u001b[38;5;241m10\u001b[39m):\n\u001b[1;32m----> 6\u001b[0m     funList\u001b[38;5;241m.\u001b[39mappend(\u001b[38;5;28;01mlambda\u001b[39;00m a, \u001b[38;5;241m*\u001b[39margs: fun(a, x\u001b[38;5;241m=\u001b[39m\u001b[43margs\u001b[49m\u001b[43m[\u001b[49m\u001b[38;5;241;43m0\u001b[39;49m\u001b[43m]\u001b[49m))\n\u001b[0;32m      8\u001b[0m \u001b[38;5;28;01mdef\u001b[39;00m \u001b[38;5;21mfun\u001b[39m(a, x):\n\u001b[0;32m      9\u001b[0m     \u001b[38;5;28mprint\u001b[39m(a, x)\n",
      "\u001b[1;31mIndexError\u001b[0m: tuple index out of range"
     ]
    }
   ],
   "source": [
    "import inspect\n",
    "import re\n",
    "\n",
    "funList = []\n",
    "for i in range(10):\n",
    "    funList.append(lambda a: fun(a, i))\n",
    "def fun(a, x):\n",
    "    print(a, x)\n",
    "print(funList)\n",
    "for i in range(10):\n",
    "    funList[i](\"sssss\")"
   ]
  },
  {
   "cell_type": "code",
   "execution_count": 4,
   "metadata": {},
   "outputs": [
    {
     "name": "stdout",
     "output_type": "stream",
     "text": [
      "{'c': 1, 'b': 3453}\n"
     ]
    }
   ],
   "source": [
    "a = {'c': 1}\n",
    "\n",
    "a['b'] = 3453\n",
    "\n",
    "print(a)"
   ]
  }
 ],
 "metadata": {
  "kernelspec": {
   "display_name": "open3D",
   "language": "python",
   "name": "python3"
  },
  "language_info": {
   "codemirror_mode": {
    "name": "ipython",
    "version": 3
   },
   "file_extension": ".py",
   "mimetype": "text/x-python",
   "name": "python",
   "nbconvert_exporter": "python",
   "pygments_lexer": "ipython3",
   "version": "3.9.16"
  }
 },
 "nbformat": 4,
 "nbformat_minor": 2
}
