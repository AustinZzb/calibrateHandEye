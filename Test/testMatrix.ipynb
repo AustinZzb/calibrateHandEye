{
 "cells": [
  {
   "cell_type": "code",
   "execution_count": null,
   "metadata": {},
   "outputs": [],
   "source": [
    "import numpy as np\n",
    "\n",
    "A = np.identity(3)\n",
    "B = np.ones(9).reshape(3, 3)\n",
    "x = np.array([1, 2, 3]).T\n",
    "\n",
    "y = np.zeros(3).T\n",
    "\n",
    "y += (A@B)@x\n",
    "y.sum()"
   ]
  },
  {
   "cell_type": "code",
   "execution_count": null,
   "metadata": {},
   "outputs": [],
   "source": [
    "from numpy import double\n",
    "\n",
    "\n",
    "file = open(\"../Data/Line/position.txt\", \"r\")\n",
    "lines = file.readlines()\n",
    "\n",
    "lines = [line.replace('\\n','') for line in lines]\n",
    "lines\n"
   ]
  },
  {
   "cell_type": "code",
   "execution_count": null,
   "metadata": {},
   "outputs": [],
   "source": []
  },
  {
   "cell_type": "code",
   "execution_count": 39,
   "metadata": {},
   "outputs": [
    {
     "name": "stdout",
     "output_type": "stream",
     "text": [
      "3\n"
     ]
    }
   ],
   "source": [
    "a = np.array([1, 1, 1]).T\n",
    "b = np.array([1, 1, 1])\n",
    "c = a@b\n",
    "print(c)"
   ]
  },
  {
   "cell_type": "code",
   "execution_count": 49,
   "metadata": {},
   "outputs": [
    {
     "data": {
      "text/plain": [
       "array([2, 2])"
      ]
     },
     "execution_count": 49,
     "metadata": {},
     "output_type": "execute_result"
    }
   ],
   "source": [
    "c = np.array([[1 , 1], [1, 2]]) @ [2, 0]\n",
    "c"
   ]
  },
  {
   "cell_type": "code",
   "execution_count": 7,
   "metadata": {},
   "outputs": [
    {
     "name": "stdout",
     "output_type": "stream",
     "text": [
      "4\n"
     ]
    }
   ],
   "source": [
    "a = []\n",
    "b = [ 2, 3,]\n",
    "c = [ 2, 3,]\n",
    "a.append(b)\n",
    "a.append(c)\n",
    "print(int(9/2))"
   ]
  },
  {
   "cell_type": "code",
   "execution_count": 8,
   "metadata": {},
   "outputs": [
    {
     "name": "stdout",
     "output_type": "stream",
     "text": [
      "[[1]\n",
      " [1]\n",
      " [1]\n",
      " [1]]\n",
      "[[1.]\n",
      " [1.]\n",
      " [1.]\n",
      " [1.]]\n"
     ]
    }
   ],
   "source": [
    "import numpy as np\n",
    "\n",
    "a = [1, 2, 3, 4, 5, 6]\n",
    "\n",
    "m = np.array([[-0.02986818,  0.43759146 , 0.8986777 , -0.3969707 ],\n",
    "            [ 0.12236504 , 0.89391709, -0.43120649, -0.460018  ],\n",
    "            [-0.99203563 , 0.09708738, -0.08024557,  0.3899877 ],\n",
    "            [ 0.         , 0.        ,  0.        , 1.        ]])\n",
    "\n",
    "\n",
    "n = np.linalg.inv(m)\n",
    "\n",
    "point_m = np.array([1, 1, 1, 1]).reshape(4, 1)\n",
    "\n",
    "print(point_m)\n",
    "\n",
    "point_n = m@point_m\n",
    "\n",
    "print(n@point_n)\n",
    "\n",
    "\n"
   ]
  },
  {
   "cell_type": "code",
   "execution_count": 2,
   "metadata": {},
   "outputs": [
    {
     "name": "stdout",
     "output_type": "stream",
     "text": [
      "-6592.56447902\n"
     ]
    }
   ],
   "source": [
    "import numpy as np\n",
    "\n",
    "a = np.array([[-5.64466680e-01 , 3.96051085e+00 , 1.78352519e+00 ,-5.15631980e+03],\n",
    "        [ 2.86267808e+00 ,-1.13607758e+00,  1.90606287e+00 ,-8.38560139e+02],\n",
    "        [-4.38447667e+00 ,-2.99201810e+00,  1.47552702e+00 ,-6.00595805e+02],\n",
    "        [ 0.00000000e+00 , 0.00000000e+00,  0.00000000e+00 , 0.00000000e+00]])\n",
    "\n",
    "print(a.sum())"
   ]
  },
  {
   "cell_type": "code",
   "execution_count": 10,
   "metadata": {},
   "outputs": [
    {
     "name": "stdout",
     "output_type": "stream",
     "text": [
      "[[0.86872571 0.43925764 0.85425195]\n",
      " [0.41357451 0.48042506 0.17842261]\n",
      " [0.35606126 0.50766893 0.63212894]\n",
      " [0.70104461 0.1378353  0.42628169]\n",
      " [0.58815938 0.84265787 0.90627626]]\n",
      "0.7941713524651375\n"
     ]
    }
   ],
   "source": [
    "import numpy as np \n",
    "\n",
    "a = np.random.random(15).reshape(5, 3)\n",
    "print(a)\n",
    "b = np.mean(a, axis=0)\n",
    "print(np.square(a - b).sum())"
   ]
  },
  {
   "cell_type": "code",
   "execution_count": 11,
   "metadata": {},
   "outputs": [
    {
     "data": {
      "text/plain": [
       "-3.773997756807905e-33"
      ]
     },
     "execution_count": 11,
     "metadata": {},
     "output_type": "execute_result"
    }
   ],
   "source": [
    "import numpy as np\n",
    "\n",
    "a = np.ndarray([1, 1, 1])\n",
    "b = np.mean(a)\n",
    "b"
   ]
  },
  {
   "cell_type": "code",
   "execution_count": 3,
   "metadata": {},
   "outputs": [
    {
     "name": "stdout",
     "output_type": "stream",
     "text": [
      "Square of 2 is 4\n",
      "Square of 3 is 9\n",
      "Square of 4 is 16\n",
      "Square of 5 is 25\n",
      "Square of 2 is 4\n",
      "Square of 3 is 9\n",
      "Square of 4 is 16\n",
      "Square of 5 is 25\n",
      "All threads finished\n"
     ]
    }
   ],
   "source": [
    "import threading\n",
    "\n",
    "def calculate_square(numbers):\n",
    "    for n in numbers:\n",
    "        print(\"Square of\", n, \"is\", n*n)\n",
    "\n",
    "def calculate_cube(numbers):\n",
    "    for n in numbers:\n",
    "        print(\"Cube of\", n, \"is\", n*n*n)\n",
    "\n",
    "# 创建线程\n",
    "numbers = [2, 3, 4, 5]\n",
    "funcs = [calculate_square, calculate_cube]\n",
    "for func in funcs:\n",
    "    threading.Thread(target=calculate_square, args=(numbers,)).start()\n",
    "\n",
    "print(\"All threads finished\")\n"
   ]
  },
  {
   "cell_type": "code",
   "execution_count": 1,
   "metadata": {},
   "outputs": [
    {
     "data": {
      "text/plain": [
       "[1, '2', {'c': 4}]"
      ]
     },
     "execution_count": 1,
     "metadata": {},
     "output_type": "execute_result"
    }
   ],
   "source": [
    "a = [1, \"2\", {'c': 4}]\n",
    "a"
   ]
  },
  {
   "cell_type": "code",
   "execution_count": 2,
   "metadata": {},
   "outputs": [
    {
     "data": {
      "text/plain": [
       "0"
      ]
     },
     "execution_count": 2,
     "metadata": {},
     "output_type": "execute_result"
    }
   ],
   "source": [
    "import numpy as np\n",
    "a = np.array([0, 0, 50])\n",
    "b = np.array([10, 0, 0])\n",
    "a@b\n"
   ]
  },
  {
   "cell_type": "code",
   "execution_count": 4,
   "metadata": {},
   "outputs": [
    {
     "name": "stdout",
     "output_type": "stream",
     "text": [
      "{'c': 1, 'b': 3453}\n"
     ]
    }
   ],
   "source": [
    "a = {'c': 1}\n",
    "\n",
    "a['b'] = 3453\n",
    "\n",
    "print(a)"
   ]
  }
 ],
 "metadata": {
  "kernelspec": {
   "display_name": "open3D",
   "language": "python",
   "name": "python3"
  },
  "language_info": {
   "codemirror_mode": {
    "name": "ipython",
    "version": 3
   },
   "file_extension": ".py",
   "mimetype": "text/x-python",
   "name": "python",
   "nbconvert_exporter": "python",
   "pygments_lexer": "ipython3",
   "version": "3.9.16"
  }
 },
 "nbformat": 4,
 "nbformat_minor": 2
}
